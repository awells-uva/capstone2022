{
  "nbformat": 4,
  "nbformat_minor": 0,
  "metadata": {
    "colab": {
      "name": "run_histat2.ipynb",
      "provenance": [],
      "collapsed_sections": []
    },
    "kernelspec": {
      "name": "python3",
      "display_name": "Python 3"
    },
    "language_info": {
      "name": "python"
    }
  },
  "cells": [
    {
      "cell_type": "code",
      "execution_count": 4,
      "metadata": {
        "colab": {
          "base_uri": "https://localhost:8080/"
        },
        "id": "_jtHmAtFtNkg",
        "outputId": "48bc7b2a-ab9f-4dea-d89b-9bafae637ce9"
      },
      "outputs": [
        {
          "output_type": "stream",
          "name": "stdout",
          "text": [
            "Collecting biopython\n",
            "  Downloading biopython-1.79-cp37-cp37m-manylinux_2_5_x86_64.manylinux1_x86_64.whl (2.3 MB)\n",
            "\u001b[K     |████████████████████████████████| 2.3 MB 4.9 MB/s \n",
            "\u001b[?25hRequirement already satisfied: numpy in /usr/local/lib/python3.7/dist-packages (from biopython) (1.21.5)\n",
            "Installing collected packages: biopython\n",
            "Successfully installed biopython-1.79\n"
          ]
        }
      ],
      "source": [
        "!pip install biopython"
      ]
    },
    {
      "cell_type": "code",
      "source": [
        "import os\n",
        "import numpy \n",
        "import pandas \n",
        "import sys\n",
        "import requests\n",
        "import json\n",
        "import time\n",
        "import subprocess\n",
        "import sys"
      ],
      "metadata": {
        "id": "4E9iSGaUtQin"
      },
      "execution_count": 20,
      "outputs": []
    },
    {
      "cell_type": "code",
      "source": [
        "import Bio\n",
        "print(Bio.__version__)\n",
        "from Bio import SeqIO\n",
        "from Bio.SeqIO.QualityIO import FastqGeneralIterator"
      ],
      "metadata": {
        "colab": {
          "base_uri": "https://localhost:8080/"
        },
        "id": "Ns6dwkXVtwh0",
        "outputId": "44da2e7a-ef99-4348-8083-38706421ab33"
      },
      "execution_count": 5,
      "outputs": [
        {
          "output_type": "stream",
          "name": "stdout",
          "text": [
            "1.79\n"
          ]
        }
      ]
    },
    {
      "cell_type": "markdown",
      "source": [
        "#Fetch Data"
      ],
      "metadata": {
        "id": "AupDLouBt2oW"
      }
    },
    {
      "cell_type": "markdown",
      "source": [
        "## Project: PRJNA277616\n",
        "Secondary Study Accession: SRP055967"
      ],
      "metadata": {
        "id": "9wjFF-net781"
      }
    },
    {
      "cell_type": "code",
      "source": [
        "url = 'https://www.ebi.ac.uk/ena/portal/api/filereport'\n",
        "dataset = 'PRJNA277616'\n",
        "\n",
        "params = {'accession':dataset,\n",
        "          'format':'json',\n",
        "          'download':'false',\n",
        "          'result':'read_run'}\n",
        "\n",
        "r = requests.get(url,\n",
        "                 params = params\n",
        "                )"
      ],
      "metadata": {
        "id": "gGuQrVOrt0Zz"
      },
      "execution_count": 6,
      "outputs": []
    },
    {
      "cell_type": "markdown",
      "source": [
        "### Print API URL"
      ],
      "metadata": {
        "id": "Vc_nhHgFuHM6"
      }
    },
    {
      "cell_type": "code",
      "source": [
        "r.url"
      ],
      "metadata": {
        "colab": {
          "base_uri": "https://localhost:8080/",
          "height": 35
        },
        "id": "UOusr08MuFB4",
        "outputId": "e62f5e5b-2385-4b14-941b-bc4d87003947"
      },
      "execution_count": 7,
      "outputs": [
        {
          "output_type": "execute_result",
          "data": {
            "application/vnd.google.colaboratory.intrinsic+json": {
              "type": "string"
            },
            "text/plain": [
              "'https://www.ebi.ac.uk/ena/portal/api/filereport?accession=PRJNA277616&format=json&download=false&result=read_run'"
            ]
          },
          "metadata": {},
          "execution_count": 7
        }
      ]
    },
    {
      "cell_type": "markdown",
      "source": [
        "### API Data to DF"
      ],
      "metadata": {
        "id": "ts7s_DQ3uRpm"
      }
    },
    {
      "cell_type": "code",
      "source": [
        "my_json = json.loads(r.text)\n",
        "df = pandas.json_normalize(json.loads(r.text))\n",
        "df = df.sort_values(by=['sra_bytes'], ascending=False)"
      ],
      "metadata": {
        "id": "lX5VptFouOEZ"
      },
      "execution_count": 8,
      "outputs": []
    },
    {
      "cell_type": "code",
      "source": [
        "df"
      ],
      "metadata": {
        "colab": {
          "base_uri": "https://localhost:8080/",
          "height": 427
        },
        "id": "RXVSCUaKuUqC",
        "outputId": "b4db0fc8-cf7b-4729-9ceb-2bb764f50aad"
      },
      "execution_count": 9,
      "outputs": [
        {
          "output_type": "execute_result",
          "data": {
            "text/html": [
              "\n",
              "  <div id=\"df-e48cfce3-b403-4862-ba69-c044188f41a0\">\n",
              "    <div class=\"colab-df-container\">\n",
              "      <div>\n",
              "<style scoped>\n",
              "    .dataframe tbody tr th:only-of-type {\n",
              "        vertical-align: middle;\n",
              "    }\n",
              "\n",
              "    .dataframe tbody tr th {\n",
              "        vertical-align: top;\n",
              "    }\n",
              "\n",
              "    .dataframe thead th {\n",
              "        text-align: right;\n",
              "    }\n",
              "</style>\n",
              "<table border=\"1\" class=\"dataframe\">\n",
              "  <thead>\n",
              "    <tr style=\"text-align: right;\">\n",
              "      <th></th>\n",
              "      <th>run_accession</th>\n",
              "      <th>fastq_ftp</th>\n",
              "      <th>fastq_bytes</th>\n",
              "      <th>fastq_md5</th>\n",
              "      <th>submitted_ftp</th>\n",
              "      <th>submitted_bytes</th>\n",
              "      <th>submitted_md5</th>\n",
              "      <th>sra_ftp</th>\n",
              "      <th>sra_bytes</th>\n",
              "      <th>sra_md5</th>\n",
              "    </tr>\n",
              "  </thead>\n",
              "  <tbody>\n",
              "    <tr>\n",
              "      <th>1</th>\n",
              "      <td>SRR1909613</td>\n",
              "      <td>ftp.sra.ebi.ac.uk/vol1/fastq/SRR190/003/SRR190...</td>\n",
              "      <td>509176084;512857801</td>\n",
              "      <td>8010de0e8960a60c17c857ed72326986;b8d6b1ccb5e21...</td>\n",
              "      <td></td>\n",
              "      <td></td>\n",
              "      <td></td>\n",
              "      <td>ftp.sra.ebi.ac.uk/vol1/srr/SRR190/003/SRR1909613</td>\n",
              "      <td>735255968</td>\n",
              "      <td>ad799097cc631623377d50e15d5e86b8</td>\n",
              "    </tr>\n",
              "    <tr>\n",
              "      <th>6</th>\n",
              "      <td>SRR1926133</td>\n",
              "      <td>ftp.sra.ebi.ac.uk/vol1/fastq/SRR192/003/SRR192...</td>\n",
              "      <td>443636019;448731045</td>\n",
              "      <td>5fe97ee4ee79b803ec351b2e49486e69;a6d022444fc9b...</td>\n",
              "      <td></td>\n",
              "      <td></td>\n",
              "      <td></td>\n",
              "      <td>ftp.sra.ebi.ac.uk/vol1/srr/SRR192/003/SRR1926133</td>\n",
              "      <td>698658517</td>\n",
              "      <td>8e7306f2eb4a5aabc37c3f1ee7773454</td>\n",
              "    </tr>\n",
              "    <tr>\n",
              "      <th>2</th>\n",
              "      <td>SRR1909637</td>\n",
              "      <td>ftp.sra.ebi.ac.uk/vol1/fastq/SRR190/007/SRR190...</td>\n",
              "      <td>476209436;482411937</td>\n",
              "      <td>76cd80cbe1bb130b71ff545944175a10;6600f4b4b8bff...</td>\n",
              "      <td></td>\n",
              "      <td></td>\n",
              "      <td></td>\n",
              "      <td>ftp.sra.ebi.ac.uk/vol1/srr/SRR190/007/SRR1909637</td>\n",
              "      <td>694463458</td>\n",
              "      <td>cf9ffb85ec3cca058f5f87315404e00d</td>\n",
              "    </tr>\n",
              "    <tr>\n",
              "      <th>8</th>\n",
              "      <td>SRR1926135</td>\n",
              "      <td>ftp.sra.ebi.ac.uk/vol1/fastq/SRR192/005/SRR192...</td>\n",
              "      <td>453426565;455280077</td>\n",
              "      <td>064993e49f2505116d888d24badd1213;9541654cde667...</td>\n",
              "      <td></td>\n",
              "      <td></td>\n",
              "      <td></td>\n",
              "      <td>ftp.sra.ebi.ac.uk/vol1/srr/SRR192/005/SRR1926135</td>\n",
              "      <td>639102091</td>\n",
              "      <td>9e2e5f128fad8d74a34f6011bd044c5e</td>\n",
              "    </tr>\n",
              "    <tr>\n",
              "      <th>7</th>\n",
              "      <td>SRR1926134</td>\n",
              "      <td>ftp.sra.ebi.ac.uk/vol1/fastq/SRR192/004/SRR192...</td>\n",
              "      <td>126633468;127279139</td>\n",
              "      <td>15994448aa63986990b296790fb07b6d;4610a7ef19498...</td>\n",
              "      <td></td>\n",
              "      <td></td>\n",
              "      <td></td>\n",
              "      <td>ftp.sra.ebi.ac.uk/vol1/srr/SRR192/004/SRR1926134</td>\n",
              "      <td>178889595</td>\n",
              "      <td>82e76da875e89ac808b298a21a9a82a6</td>\n",
              "    </tr>\n",
              "    <tr>\n",
              "      <th>0</th>\n",
              "      <td>SRR1867792</td>\n",
              "      <td>ftp.sra.ebi.ac.uk/vol1/fastq/SRR186/002/SRR186...</td>\n",
              "      <td>969299466;980437258</td>\n",
              "      <td>1a51cf21b35c6dbaa39c59458e095c11;27be060c3f312...</td>\n",
              "      <td></td>\n",
              "      <td></td>\n",
              "      <td></td>\n",
              "      <td>ftp.sra.ebi.ac.uk/vol1/srr/SRR186/002/SRR1867792</td>\n",
              "      <td>1392075613</td>\n",
              "      <td>1212cbb2094c871d08b182089ab41310</td>\n",
              "    </tr>\n",
              "    <tr>\n",
              "      <th>5</th>\n",
              "      <td>SRR1926132</td>\n",
              "      <td>ftp.sra.ebi.ac.uk/vol1/fastq/SRR192/002/SRR192...</td>\n",
              "      <td>860705147;870451896</td>\n",
              "      <td>567a0485cf4fd45518d6d40a48ab4602;b3a8f51c7fceb...</td>\n",
              "      <td></td>\n",
              "      <td></td>\n",
              "      <td></td>\n",
              "      <td>ftp.sra.ebi.ac.uk/vol1/srr/SRR192/002/SRR1926132</td>\n",
              "      <td>1362585136</td>\n",
              "      <td>7c9c7fe9226093e913f21143e9f47160</td>\n",
              "    </tr>\n",
              "    <tr>\n",
              "      <th>9</th>\n",
              "      <td>SRR1926136</td>\n",
              "      <td>ftp.sra.ebi.ac.uk/vol1/fastq/SRR192/006/SRR192...</td>\n",
              "      <td>880466468;881617202</td>\n",
              "      <td>5fff95da7170a33e4787a711e2034b81;d22d9775a5850...</td>\n",
              "      <td></td>\n",
              "      <td></td>\n",
              "      <td></td>\n",
              "      <td>ftp.sra.ebi.ac.uk/vol1/srr/SRR192/006/SRR1926136</td>\n",
              "      <td>1313869366</td>\n",
              "      <td>c17f66c0874cadacf5104bcbbc95862f</td>\n",
              "    </tr>\n",
              "    <tr>\n",
              "      <th>3</th>\n",
              "      <td>SRR1909638</td>\n",
              "      <td>ftp.sra.ebi.ac.uk/vol1/fastq/SRR190/008/SRR190...</td>\n",
              "      <td>818597025;829022213</td>\n",
              "      <td>1bf535cf7c087b91ee63c5ee8b179b93;d0cebabefcf7c...</td>\n",
              "      <td></td>\n",
              "      <td></td>\n",
              "      <td></td>\n",
              "      <td>ftp.sra.ebi.ac.uk/vol1/srr/SRR190/008/SRR1909638</td>\n",
              "      <td>1179953899</td>\n",
              "      <td>64357edc6c3749ba825b963357789284</td>\n",
              "    </tr>\n",
              "    <tr>\n",
              "      <th>4</th>\n",
              "      <td>SRR1909639</td>\n",
              "      <td>ftp.sra.ebi.ac.uk/vol1/fastq/SRR190/009/SRR190...</td>\n",
              "      <td>671504088;679436514</td>\n",
              "      <td>2fb29f0c80b7849c030ac01bf4b6f23e;409a5fbcf89c4...</td>\n",
              "      <td></td>\n",
              "      <td></td>\n",
              "      <td></td>\n",
              "      <td>ftp.sra.ebi.ac.uk/vol1/srr/SRR190/009/SRR1909639</td>\n",
              "      <td>1040564099</td>\n",
              "      <td>79a78ab1825d55a2aa76ad6b9242f26a</td>\n",
              "    </tr>\n",
              "  </tbody>\n",
              "</table>\n",
              "</div>\n",
              "      <button class=\"colab-df-convert\" onclick=\"convertToInteractive('df-e48cfce3-b403-4862-ba69-c044188f41a0')\"\n",
              "              title=\"Convert this dataframe to an interactive table.\"\n",
              "              style=\"display:none;\">\n",
              "        \n",
              "  <svg xmlns=\"http://www.w3.org/2000/svg\" height=\"24px\"viewBox=\"0 0 24 24\"\n",
              "       width=\"24px\">\n",
              "    <path d=\"M0 0h24v24H0V0z\" fill=\"none\"/>\n",
              "    <path d=\"M18.56 5.44l.94 2.06.94-2.06 2.06-.94-2.06-.94-.94-2.06-.94 2.06-2.06.94zm-11 1L8.5 8.5l.94-2.06 2.06-.94-2.06-.94L8.5 2.5l-.94 2.06-2.06.94zm10 10l.94 2.06.94-2.06 2.06-.94-2.06-.94-.94-2.06-.94 2.06-2.06.94z\"/><path d=\"M17.41 7.96l-1.37-1.37c-.4-.4-.92-.59-1.43-.59-.52 0-1.04.2-1.43.59L10.3 9.45l-7.72 7.72c-.78.78-.78 2.05 0 2.83L4 21.41c.39.39.9.59 1.41.59.51 0 1.02-.2 1.41-.59l7.78-7.78 2.81-2.81c.8-.78.8-2.07 0-2.86zM5.41 20L4 18.59l7.72-7.72 1.47 1.35L5.41 20z\"/>\n",
              "  </svg>\n",
              "      </button>\n",
              "      \n",
              "  <style>\n",
              "    .colab-df-container {\n",
              "      display:flex;\n",
              "      flex-wrap:wrap;\n",
              "      gap: 12px;\n",
              "    }\n",
              "\n",
              "    .colab-df-convert {\n",
              "      background-color: #E8F0FE;\n",
              "      border: none;\n",
              "      border-radius: 50%;\n",
              "      cursor: pointer;\n",
              "      display: none;\n",
              "      fill: #1967D2;\n",
              "      height: 32px;\n",
              "      padding: 0 0 0 0;\n",
              "      width: 32px;\n",
              "    }\n",
              "\n",
              "    .colab-df-convert:hover {\n",
              "      background-color: #E2EBFA;\n",
              "      box-shadow: 0px 1px 2px rgba(60, 64, 67, 0.3), 0px 1px 3px 1px rgba(60, 64, 67, 0.15);\n",
              "      fill: #174EA6;\n",
              "    }\n",
              "\n",
              "    [theme=dark] .colab-df-convert {\n",
              "      background-color: #3B4455;\n",
              "      fill: #D2E3FC;\n",
              "    }\n",
              "\n",
              "    [theme=dark] .colab-df-convert:hover {\n",
              "      background-color: #434B5C;\n",
              "      box-shadow: 0px 1px 3px 1px rgba(0, 0, 0, 0.15);\n",
              "      filter: drop-shadow(0px 1px 2px rgba(0, 0, 0, 0.3));\n",
              "      fill: #FFFFFF;\n",
              "    }\n",
              "  </style>\n",
              "\n",
              "      <script>\n",
              "        const buttonEl =\n",
              "          document.querySelector('#df-e48cfce3-b403-4862-ba69-c044188f41a0 button.colab-df-convert');\n",
              "        buttonEl.style.display =\n",
              "          google.colab.kernel.accessAllowed ? 'block' : 'none';\n",
              "\n",
              "        async function convertToInteractive(key) {\n",
              "          const element = document.querySelector('#df-e48cfce3-b403-4862-ba69-c044188f41a0');\n",
              "          const dataTable =\n",
              "            await google.colab.kernel.invokeFunction('convertToInteractive',\n",
              "                                                     [key], {});\n",
              "          if (!dataTable) return;\n",
              "\n",
              "          const docLinkHtml = 'Like what you see? Visit the ' +\n",
              "            '<a target=\"_blank\" href=https://colab.research.google.com/notebooks/data_table.ipynb>data table notebook</a>'\n",
              "            + ' to learn more about interactive tables.';\n",
              "          element.innerHTML = '';\n",
              "          dataTable['output_type'] = 'display_data';\n",
              "          await google.colab.output.renderOutput(dataTable, element);\n",
              "          const docLink = document.createElement('div');\n",
              "          docLink.innerHTML = docLinkHtml;\n",
              "          element.appendChild(docLink);\n",
              "        }\n",
              "      </script>\n",
              "    </div>\n",
              "  </div>\n",
              "  "
            ],
            "text/plain": [
              "  run_accession  ...                           sra_md5\n",
              "1    SRR1909613  ...  ad799097cc631623377d50e15d5e86b8\n",
              "6    SRR1926133  ...  8e7306f2eb4a5aabc37c3f1ee7773454\n",
              "2    SRR1909637  ...  cf9ffb85ec3cca058f5f87315404e00d\n",
              "8    SRR1926135  ...  9e2e5f128fad8d74a34f6011bd044c5e\n",
              "7    SRR1926134  ...  82e76da875e89ac808b298a21a9a82a6\n",
              "0    SRR1867792  ...  1212cbb2094c871d08b182089ab41310\n",
              "5    SRR1926132  ...  7c9c7fe9226093e913f21143e9f47160\n",
              "9    SRR1926136  ...  c17f66c0874cadacf5104bcbbc95862f\n",
              "3    SRR1909638  ...  64357edc6c3749ba825b963357789284\n",
              "4    SRR1909639  ...  79a78ab1825d55a2aa76ad6b9242f26a\n",
              "\n",
              "[10 rows x 10 columns]"
            ]
          },
          "metadata": {},
          "execution_count": 9
        }
      ]
    },
    {
      "cell_type": "markdown",
      "source": [
        "### List Avaliable Runs"
      ],
      "metadata": {
        "id": "piW9Rl0Mudvi"
      }
    },
    {
      "cell_type": "code",
      "source": [
        "df['run_accession']"
      ],
      "metadata": {
        "colab": {
          "base_uri": "https://localhost:8080/"
        },
        "id": "6lS0WrSouVW0",
        "outputId": "53d74843-a990-4da2-8e9e-ba79a5eea59b"
      },
      "execution_count": 10,
      "outputs": [
        {
          "output_type": "execute_result",
          "data": {
            "text/plain": [
              "1    SRR1909613\n",
              "6    SRR1926133\n",
              "2    SRR1909637\n",
              "8    SRR1926135\n",
              "7    SRR1926134\n",
              "0    SRR1867792\n",
              "5    SRR1926132\n",
              "9    SRR1926136\n",
              "3    SRR1909638\n",
              "4    SRR1909639\n",
              "Name: run_accession, dtype: object"
            ]
          },
          "metadata": {},
          "execution_count": 10
        }
      ]
    },
    {
      "cell_type": "markdown",
      "source": [
        "### Download Selected Runs"
      ],
      "metadata": {
        "id": "UgAzzweaukYu"
      }
    },
    {
      "cell_type": "code",
      "source": [
        "selected_runs = ['SRR1926134'] # This should be 10 to start but testing with 2\n",
        "df[df['run_accession']==selected_runs[0]]\n",
        "for i in range(len(selected_runs)):\n",
        "  subset = df[df['run_accession']==selected_runs[i]]\n",
        "  urls = subset['fastq_ftp'].values[0].split(\";\")\n",
        "  for url in urls:\n",
        "    print('Fetching: {}'.format(url))\n",
        "    !wget {url}\n",
        "    time.sleep(2)"
      ],
      "metadata": {
        "colab": {
          "base_uri": "https://localhost:8080/"
        },
        "id": "Rdd8hiu7uiUX",
        "outputId": "204f6bb3-a1e3-4419-db50-320202ad5efa"
      },
      "execution_count": 11,
      "outputs": [
        {
          "output_type": "stream",
          "name": "stdout",
          "text": [
            "Fetching: ftp.sra.ebi.ac.uk/vol1/fastq/SRR192/004/SRR1926134/SRR1926134_1.fastq.gz\n",
            "--2022-02-27 05:50:03--  http://ftp.sra.ebi.ac.uk/vol1/fastq/SRR192/004/SRR1926134/SRR1926134_1.fastq.gz\n",
            "Resolving ftp.sra.ebi.ac.uk (ftp.sra.ebi.ac.uk)... 193.62.197.74\n",
            "Connecting to ftp.sra.ebi.ac.uk (ftp.sra.ebi.ac.uk)|193.62.197.74|:80... connected.\n",
            "HTTP request sent, awaiting response... 200 OK\n",
            "Length: 126633468 (121M) [application/octet-stream]\n",
            "Saving to: ‘SRR1926134_1.fastq.gz’\n",
            "\n",
            "SRR1926134_1.fastq. 100%[===================>] 120.77M   740KB/s    in 2m 55s  \n",
            "\n",
            "2022-02-27 05:53:00 (705 KB/s) - ‘SRR1926134_1.fastq.gz’ saved [126633468/126633468]\n",
            "\n",
            "Fetching: ftp.sra.ebi.ac.uk/vol1/fastq/SRR192/004/SRR1926134/SRR1926134_2.fastq.gz\n",
            "--2022-02-27 05:53:02--  http://ftp.sra.ebi.ac.uk/vol1/fastq/SRR192/004/SRR1926134/SRR1926134_2.fastq.gz\n",
            "Resolving ftp.sra.ebi.ac.uk (ftp.sra.ebi.ac.uk)... 193.62.193.138\n",
            "Connecting to ftp.sra.ebi.ac.uk (ftp.sra.ebi.ac.uk)|193.62.193.138|:80... connected.\n",
            "HTTP request sent, awaiting response... 200 OK\n",
            "Length: 127279139 (121M) [application/octet-stream]\n",
            "Saving to: ‘SRR1926134_2.fastq.gz’\n",
            "\n",
            "SRR1926134_2.fastq. 100%[===================>] 121.38M  1.41MB/s    in 88s     \n",
            "\n",
            "2022-02-27 05:54:31 (1.38 MB/s) - ‘SRR1926134_2.fastq.gz’ saved [127279139/127279139]\n",
            "\n"
          ]
        }
      ]
    },
    {
      "cell_type": "markdown",
      "source": [
        "### Unzip and Unpack"
      ],
      "metadata": {
        "id": "ffVfGVbrvzjA"
      }
    },
    {
      "cell_type": "code",
      "source": [
        "datapath = '/content/data/{}/'.format(dataset)\n",
        "if not os.path.exists(datapath):\n",
        "  os.makedirs(datapath)\n",
        "for datafile in selected_runs:\n",
        "  mygz= ''.join([datafile,'_1.fastq.gz'])\n",
        "  myfastq= ''.join([datafile,'_1.fastq'])\n",
        "  print('Unpacking: ' + mygz )\n",
        "  if os.path.exists(mygz):\n",
        "    !gzip -d {mygz} && mv {myfastq} {datapath}\n",
        "\n",
        "  mygz= ''.join([datafile,'_2.fastq.gz'])\n",
        "  myfastq= ''.join([datafile,'_2.fastq'])\n",
        "  print('Unpacking: ' + mygz )\n",
        "  if os.path.exists(mygz):\n",
        "    !gzip -d {mygz} && mv {myfastq} {datapath}"
      ],
      "metadata": {
        "colab": {
          "base_uri": "https://localhost:8080/"
        },
        "id": "Qad_YYarupOW",
        "outputId": "da126638-e875-4f3b-9281-05dd2cad50ab"
      },
      "execution_count": 12,
      "outputs": [
        {
          "output_type": "stream",
          "name": "stdout",
          "text": [
            "Unpacking: SRR1926134_1.fastq.gz\n",
            "Unpacking: SRR1926134_2.fastq.gz\n"
          ]
        }
      ]
    },
    {
      "cell_type": "markdown",
      "source": [
        "# Download HISAT2"
      ],
      "metadata": {
        "id": "dp9RRPvjv_BF"
      }
    },
    {
      "cell_type": "code",
      "source": [
        "!wget https://cloud.biohpc.swmed.edu/index.php/s/oTtGWbWjaxsQ2Ho/download/hisat2-2.2.1-Linux_x86_64.zip"
      ],
      "metadata": {
        "colab": {
          "base_uri": "https://localhost:8080/"
        },
        "id": "3N1TyJHDv322",
        "outputId": "6ab7c2d0-5bbe-4a3e-8bf2-e64c4691b176"
      },
      "execution_count": 13,
      "outputs": [
        {
          "output_type": "stream",
          "name": "stdout",
          "text": [
            "--2022-02-27 05:56:32--  https://cloud.biohpc.swmed.edu/index.php/s/oTtGWbWjaxsQ2Ho/download/hisat2-2.2.1-Linux_x86_64.zip\n",
            "Resolving cloud.biohpc.swmed.edu (cloud.biohpc.swmed.edu)... 129.112.9.92\n",
            "Connecting to cloud.biohpc.swmed.edu (cloud.biohpc.swmed.edu)|129.112.9.92|:443... connected.\n",
            "HTTP request sent, awaiting response... 200 OK\n",
            "Length: 35050467 (33M) [application/zip]\n",
            "Saving to: ‘hisat2-2.2.1-Linux_x86_64.zip’\n",
            "\n",
            "hisat2-2.2.1-Linux_ 100%[===================>]  33.43M  43.5MB/s    in 0.8s    \n",
            "\n",
            "2022-02-27 05:56:33 (43.5 MB/s) - ‘hisat2-2.2.1-Linux_x86_64.zip’ saved [35050467/35050467]\n",
            "\n"
          ]
        }
      ]
    },
    {
      "cell_type": "markdown",
      "source": [
        "### Unzip Software"
      ],
      "metadata": {
        "id": "We7xsUtqwKqu"
      }
    },
    {
      "cell_type": "code",
      "source": [
        "!unzip hisat2-2.2.1-Linux_x86_64.zip"
      ],
      "metadata": {
        "colab": {
          "base_uri": "https://localhost:8080/"
        },
        "id": "vvOsRHVgwILT",
        "outputId": "27ea921b-7627-4ac5-9308-5c5d55aee1dd"
      },
      "execution_count": 14,
      "outputs": [
        {
          "output_type": "stream",
          "name": "stdout",
          "text": [
            "Archive:  hisat2-2.2.1-Linux_x86_64.zip\n",
            "   creating: hisat2-2.2.1/\n",
            "  inflating: hisat2-2.2.1/hisat2-align-s-debug  \n",
            "  inflating: hisat2-2.2.1/hisat2_extract_snps_haplotypes_VCF.py  \n",
            "  inflating: hisat2-2.2.1/hisat2-build-l  \n",
            "  inflating: hisat2-2.2.1/hisat2_extract_exons.py  \n",
            "  inflating: hisat2-2.2.1/MANUAL.markdown  \n",
            "   creating: hisat2-2.2.1/example/\n",
            "   creating: hisat2-2.2.1/example/index/\n",
            "  inflating: hisat2-2.2.1/example/index/22_20-21M_snp.7.ht2  \n",
            "  inflating: hisat2-2.2.1/example/index/22_20-21M_snp.6.ht2  \n",
            "  inflating: hisat2-2.2.1/example/index/22_20-21M_snp.1.ht2  \n",
            "  inflating: hisat2-2.2.1/example/index/22_20-21M_snp.3.ht2  \n",
            "  inflating: hisat2-2.2.1/example/index/22_20-21M_snp.5.ht2  \n",
            "  inflating: hisat2-2.2.1/example/index/22_20-21M_snp.2.ht2  \n",
            "  inflating: hisat2-2.2.1/example/index/22_20-21M_snp.8.ht2  \n",
            "  inflating: hisat2-2.2.1/example/index/22_20-21M_snp.4.ht2  \n",
            "   creating: hisat2-2.2.1/example/reference/\n",
            "  inflating: hisat2-2.2.1/example/reference/22_20-21M.snp  \n",
            "  inflating: hisat2-2.2.1/example/reference/22_20-21M.fa  \n",
            "   creating: hisat2-2.2.1/example/reads/\n",
            "  inflating: hisat2-2.2.1/example/reads/reads_1.fa  \n",
            "  inflating: hisat2-2.2.1/example/reads/reads_2.fa  \n",
            "  inflating: hisat2-2.2.1/hisat2-build-l-debug  \n",
            "  inflating: hisat2-2.2.1/hisat2-inspect-l  \n",
            "  inflating: hisat2-2.2.1/LICENSE    \n",
            "  inflating: hisat2-2.2.1/hisat2-align-l  \n",
            "  inflating: hisat2-2.2.1/hisat2-inspect-l-debug  \n",
            "  inflating: hisat2-2.2.1/hisat2-inspect-s-debug  \n",
            "  inflating: hisat2-2.2.1/hisat2     \n",
            "  inflating: hisat2-2.2.1/extract_splice_sites.py  \n",
            "  inflating: hisat2-2.2.1/hisat2-align-s  \n",
            "  inflating: hisat2-2.2.1/hisat2-inspect  \n",
            "  inflating: hisat2-2.2.1/hisat2_simulate_reads.py  \n",
            "  inflating: hisat2-2.2.1/AUTHORS    \n",
            "   creating: hisat2-2.2.1/scripts/\n",
            "  inflating: hisat2-2.2.1/scripts/make_sc3.sh  \n",
            "  inflating: hisat2-2.2.1/scripts/make_grch37_tran.sh  \n",
            "  inflating: hisat2-2.2.1/scripts/make_e_coli.sh  \n",
            "  inflating: hisat2-2.2.1/scripts/make_rnor6_tran.sh  \n",
            "  inflating: hisat2-2.2.1/scripts/make_hg19.sh  \n",
            "  inflating: hisat2-2.2.1/scripts/make_mm10.sh  \n",
            "  inflating: hisat2-2.2.1/scripts/make_grch38_snp.sh  \n",
            "  inflating: hisat2-2.2.1/scripts/make_rnor6.sh  \n",
            "  inflating: hisat2-2.2.1/scripts/make_grcm38_tran.sh  \n",
            "  inflating: hisat2-2.2.1/scripts/make_zm3_snp_tran_ercc.sh  \n",
            "  inflating: hisat2-2.2.1/scripts/make_bdgp6.sh  \n",
            "  inflating: hisat2-2.2.1/scripts/make_dm6.sh  \n",
            "  inflating: hisat2-2.2.1/scripts/make_r64.sh  \n",
            "  inflating: hisat2-2.2.1/scripts/make_bdgp6_tran.sh  \n",
            "  inflating: hisat2-2.2.1/scripts/make_grch38_snp_rep.sh  \n",
            "  inflating: hisat2-2.2.1/scripts/infer_fraglen.pl  \n",
            "  inflating: hisat2-2.2.1/scripts/make_grch38_rep.sh  \n",
            "  inflating: hisat2-2.2.1/scripts/make_grch38_snp_tran.sh  \n",
            "  inflating: hisat2-2.2.1/scripts/make_grch37.sh  \n",
            "  inflating: hisat2-2.2.1/scripts/make_wbcel235_tran.sh  \n",
            "  inflating: hisat2-2.2.1/scripts/make_grcm38_snp.sh  \n",
            "  inflating: hisat2-2.2.1/scripts/make_grch38.sh  \n",
            "  inflating: hisat2-2.2.1/scripts/make_rn4.sh  \n",
            "  inflating: hisat2-2.2.1/scripts/make_hg38_snp.sh  \n",
            "  inflating: hisat2-2.2.1/scripts/gen_occ_lookup.pl  \n",
            "  inflating: hisat2-2.2.1/scripts/gen_2b_occ_lookup.pl  \n",
            "  inflating: hisat2-2.2.1/scripts/make_rn6.sh  \n",
            "  inflating: hisat2-2.2.1/scripts/make_hg38.sh  \n",
            "  inflating: hisat2-2.2.1/scripts/make_ce10.sh  \n",
            "  inflating: hisat2-2.2.1/scripts/make_wbcel235.sh  \n",
            "  inflating: hisat2-2.2.1/scripts/make_grcm38_snp_tran.sh  \n",
            "  inflating: hisat2-2.2.1/scripts/make_grch37_snp_tran.sh  \n",
            "  inflating: hisat2-2.2.1/scripts/make_mm9.sh  \n",
            "  inflating: hisat2-2.2.1/scripts/make_hg38_snp_tran.sh  \n",
            "  inflating: hisat2-2.2.1/scripts/make_grch37_snp_tran_ercc.sh  \n",
            "  inflating: hisat2-2.2.1/scripts/convert_quals.pl  \n",
            "  inflating: hisat2-2.2.1/scripts/make_r64_tran.sh  \n",
            "  inflating: hisat2-2.2.1/scripts/make_canFam2.sh  \n",
            "  inflating: hisat2-2.2.1/scripts/make_grch38_snp_tran_ercc.sh  \n",
            "  inflating: hisat2-2.2.1/scripts/gen_solqual_lookup.pl  \n",
            "  inflating: hisat2-2.2.1/scripts/make_hg38_allsnp.sh  \n",
            "  inflating: hisat2-2.2.1/scripts/make_a_thaliana_tair.sh  \n",
            "  inflating: hisat2-2.2.1/scripts/make_grch38_tran.sh  \n",
            "  inflating: hisat2-2.2.1/scripts/make_b_taurus_UMD3.sh  \n",
            "  inflating: hisat2-2.2.1/scripts/make_grcm38.sh  \n",
            "  inflating: hisat2-2.2.1/scripts/make_grch37_snp.sh  \n",
            "  inflating: hisat2-2.2.1/hisat2-build-s  \n",
            "  inflating: hisat2-2.2.1/hisat2-repeat  \n",
            "  inflating: hisat2-2.2.1/TUTORIAL   \n",
            "  inflating: hisat2-2.2.1/hisat2-inspect-s  \n",
            "  inflating: hisat2-2.2.1/hisat2_read_statistics.py  \n",
            "  inflating: hisat2-2.2.1/hisat2-build-s-debug  \n",
            "  inflating: hisat2-2.2.1/hisat2-align-l-debug  \n",
            "  inflating: hisat2-2.2.1/extract_exons.py  \n",
            "  inflating: hisat2-2.2.1/hisat2_extract_snps_haplotypes_UCSC.py  \n",
            "  inflating: hisat2-2.2.1/NEWS       \n",
            "  inflating: hisat2-2.2.1/hisat2_extract_splice_sites.py  \n",
            " extracting: hisat2-2.2.1/VERSION    \n",
            "  inflating: hisat2-2.2.1/MANUAL     \n",
            "  inflating: hisat2-2.2.1/hisat2-repeat-debug  \n",
            "  inflating: hisat2-2.2.1/hisat2-build  \n"
          ]
        }
      ]
    },
    {
      "cell_type": "markdown",
      "source": [
        "# Download Indexes"
      ],
      "metadata": {
        "id": "L482D52fwQpS"
      }
    },
    {
      "cell_type": "code",
      "source": [
        "!wget https://genome-idx.s3.amazonaws.com/hisat/grch38_genome.tar.gz"
      ],
      "metadata": {
        "colab": {
          "base_uri": "https://localhost:8080/"
        },
        "id": "9x2e7oozwPYa",
        "outputId": "a4e3f2a4-1f2e-4756-c626-6664918d1d98"
      },
      "execution_count": 15,
      "outputs": [
        {
          "output_type": "stream",
          "name": "stdout",
          "text": [
            "--2022-02-27 05:57:21--  https://genome-idx.s3.amazonaws.com/hisat/grch38_genome.tar.gz\n",
            "Resolving genome-idx.s3.amazonaws.com (genome-idx.s3.amazonaws.com)... 52.217.201.73\n",
            "Connecting to genome-idx.s3.amazonaws.com (genome-idx.s3.amazonaws.com)|52.217.201.73|:443... connected.\n",
            "HTTP request sent, awaiting response... 200 OK\n",
            "Length: 4210306865 (3.9G) [binary/octet-stream]\n",
            "Saving to: ‘grch38_genome.tar.gz’\n",
            "\n",
            "grch38_genome.tar.g 100%[===================>]   3.92G  31.9MB/s    in 1m 58s  \n",
            "\n",
            "2022-02-27 05:59:19 (34.2 MB/s) - ‘grch38_genome.tar.gz’ saved [4210306865/4210306865]\n",
            "\n"
          ]
        }
      ]
    },
    {
      "cell_type": "markdown",
      "source": [
        "### Unpack Indexes"
      ],
      "metadata": {
        "id": "TN3pIJC8w3IG"
      }
    },
    {
      "cell_type": "code",
      "source": [
        "!tar -xvf grch38_genome.tar.gz"
      ],
      "metadata": {
        "colab": {
          "base_uri": "https://localhost:8080/"
        },
        "id": "OpTyqWzgwUKf",
        "outputId": "ce3a96b1-845e-440c-aec9-ed75996291ed"
      },
      "execution_count": 16,
      "outputs": [
        {
          "output_type": "stream",
          "name": "stdout",
          "text": [
            "grch38/\n",
            "grch38/genome.5.ht2\n",
            "grch38/genome.2.ht2\n",
            "grch38/make_grch38.sh\n",
            "grch38/genome.3.ht2\n",
            "grch38/genome.4.ht2\n",
            "grch38/genome.7.ht2\n",
            "grch38/genome.1.ht2\n",
            "grch38/genome.6.ht2\n",
            "grch38/genome.8.ht2\n"
          ]
        }
      ]
    },
    {
      "cell_type": "markdown",
      "source": [
        "# Run Command as a Python Wrapper"
      ],
      "metadata": {
        "id": "OAQLxxBJxW1R"
      }
    },
    {
      "cell_type": "code",
      "source": [
        "read1 = \"/content/data/PRJNA277616/SRR1926134_1.fastq\"\n",
        "read2 = \"/content/data/PRJNA277616/SRR1926134_2.fastq\"\n",
        "outfile = \"SRR1926134.sam\""
      ],
      "metadata": {
        "id": "CEE5SZJCxuyL"
      },
      "execution_count": 17,
      "outputs": []
    },
    {
      "cell_type": "code",
      "source": [
        "cmd = [\"/content/hisat2-2.2.1/hisat2\",\n",
        "       \"-q\",\n",
        "       \"-x\",\n",
        "       \"$HISAT2_INDEXES/genome\",\n",
        "       \"-1\",\n",
        "       read1,\n",
        "       \"-2\",\n",
        "      read2,\n",
        "      \"-S\",\n",
        "      outfile,\n",
        "      \"--time\"]\n",
        "print(\"Running Command: \")\n",
        "print(*cmd, sep =\" \")"
      ],
      "metadata": {
        "colab": {
          "base_uri": "https://localhost:8080/"
        },
        "id": "dRIH4rVuxbls",
        "outputId": "c967e504-8a8f-4fbd-f607-4acef32bfbec"
      },
      "execution_count": 19,
      "outputs": [
        {
          "output_type": "stream",
          "name": "stdout",
          "text": [
            "Running Command: \n",
            "/content/hisat2-2.2.1/hisat2 -q -x $HISAT2_INDEXES/genome -1 /content/data/PRJNA277616/SRR1926134_1.fastq -2 /content/data/PRJNA277616/SRR1926134_2.fastq -S SRR1926134.sam --time\n"
          ]
        }
      ]
    },
    {
      "cell_type": "code",
      "source": [
        "my_env = {**os.environ,\n",
        "          'HISAT2_INDEXES': '/content/grch38/'}\n",
        "\n",
        "process = subprocess.Popen(cmd, \n",
        "                           stdout=subprocess.PIPE, \n",
        "                           stderr=subprocess.STDOUT,\n",
        "                           env = my_env)\n",
        "for line in process.stdout:\n",
        "    sys.stdout.write(line)"
      ],
      "metadata": {
        "colab": {
          "base_uri": "https://localhost:8080/"
        },
        "id": "6mZD7W1ow7kk",
        "outputId": "92386716-a4f4-44b4-d827-9bc499edb62f"
      },
      "execution_count": 22,
      "outputs": [
        {
          "output_type": "stream",
          "name": "stdout",
          "text": [
            "Time loading forward index: 00:00:07\n",
            "Time loading reference: 00:00:01\n",
            "Multiseed full-index search: 00:06:32\n",
            "2103171 reads; of these:\n",
            "  2103171 (100.00%) were paired; of these:\n",
            "    895462 (42.58%) aligned concordantly 0 times\n",
            "    1155376 (54.93%) aligned concordantly exactly 1 time\n",
            "    52333 (2.49%) aligned concordantly >1 times\n",
            "    ----\n",
            "    895462 pairs aligned concordantly 0 times; of these:\n",
            "      164837 (18.41%) aligned discordantly 1 time\n",
            "    ----\n",
            "    730625 pairs aligned 0 times concordantly or discordantly; of these:\n",
            "      1461250 mates make up the pairs; of these:\n",
            "        1097505 (75.11%) aligned 0 times\n",
            "        326778 (22.36%) aligned exactly 1 time\n",
            "        36967 (2.53%) aligned >1 times\n",
            "73.91% overall alignment rate\n",
            "Time searching: 00:06:34\n",
            "Overall time: 00:06:41\n"
          ]
        }
      ]
    },
    {
      "cell_type": "code",
      "source": [
        "!ls"
      ],
      "metadata": {
        "colab": {
          "base_uri": "https://localhost:8080/"
        },
        "id": "zSqppux7y4dG",
        "outputId": "709f5044-5483-4864-af4e-2339760fb7db"
      },
      "execution_count": 23,
      "outputs": [
        {
          "output_type": "stream",
          "name": "stdout",
          "text": [
            "data\tgrch38_genome.tar.gz  hisat2-2.2.1-Linux_x86_64.zip  SRR1926134.sam\n",
            "grch38\thisat2-2.2.1\t      sample_data\n"
          ]
        }
      ]
    },
    {
      "cell_type": "markdown",
      "source": [
        "# TODO"
      ],
      "metadata": {
        "id": "CR3ErtHz0jTv"
      }
    },
    {
      "cell_type": "code",
      "source": [
        "# Find some way to read .sam so it can be mapped\n",
        "# DO NOT, try to open .sam files with cat or less.\n",
        "# It's HUGE and  WILL cause a crash\n",
        "# Maybe Samtools?"
      ],
      "metadata": {
        "id": "xsjSMsNg0gqX"
      },
      "execution_count": 28,
      "outputs": []
    },
    {
      "cell_type": "code",
      "source": [
        "# Get size of output file\n",
        "!du -shc {outfile}"
      ],
      "metadata": {
        "colab": {
          "base_uri": "https://localhost:8080/"
        },
        "id": "O6x2lc6Y0y5D",
        "outputId": "553f0a77-9340-4b64-8304-ca63d74ac6ce"
      },
      "execution_count": 31,
      "outputs": [
        {
          "output_type": "stream",
          "name": "stdout",
          "text": [
            "1.4G\tSRR1926134.sam\n",
            "1.4G\ttotal\n"
          ]
        }
      ]
    },
    {
      "cell_type": "code",
      "source": [
        ""
      ],
      "metadata": {
        "id": "hLOLd2Em02xh"
      },
      "execution_count": null,
      "outputs": []
    }
  ]
}