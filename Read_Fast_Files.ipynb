{
 "cells": [
  {
   "cell_type": "code",
   "execution_count": 1,
   "id": "682a4abc",
   "metadata": {},
   "outputs": [],
   "source": [
    "import os\n",
    "import numpy \n",
    "import pandas "
   ]
  },
  {
   "cell_type": "code",
   "execution_count": 2,
   "id": "36090152",
   "metadata": {},
   "outputs": [],
   "source": [
    "testFile = \"\"\"@M01757:9:000000000-AN67B:1:1101:13276:1772 1:N:0:1\n",
    "TGACAGGACCAGTCACGCTTTTTCTCGGAGAAGATCAAAATCTGTCGTCTTTATTGACCATATACATAGTTCAGTCGCTGTACAACACTTATCTGAAA\n",
    "+\n",
    "11AAAFA1AAAFGDDF11EFGGH0F300000001D1111111D22A/BAFFG2DF1211111D222D212D222D1//B//1D21B//BF1B1F2221\n",
    "\"\"\"\n",
    "if os.path.exists(\"testFile.fq\"):\n",
    "    os.remove(\"testFile.fq\")\n",
    "f = open(\"testFile.fq\", \"a\")\n",
    "f.write(testFile)\n",
    "f.close()\n"
   ]
  },
  {
   "cell_type": "code",
   "execution_count": 3,
   "id": "42223daa",
   "metadata": {},
   "outputs": [
    {
     "name": "stdout",
     "output_type": "stream",
     "text": [
      "@M01757:9:000000000-AN67B:1:1101:13276:1772 1:N:0:1\r\n",
      "TGACAGGACCAGTCACGCTTTTTCTCGGAGAAGATCAAAATCTGTCGTCTTTATTGACCATATACATAGTTCAGTCGCTGTACAACACTTATCTGAAA\r\n",
      "+\r\n",
      "11AAAFA1AAAFGDDF11EFGGH0F300000001D1111111D22A/BAFFG2DF1211111D222D212D222D1//B//1D21B//BF1B1F2221\r\n"
     ]
    }
   ],
   "source": [
    "!cat testFile.fq"
   ]
  },
  {
   "cell_type": "code",
   "execution_count": 4,
   "id": "ca5981e4",
   "metadata": {},
   "outputs": [],
   "source": [
    "def read_fastq_to_pandas(filenames):\n",
    "    counter = 0 \n",
    "    header = []\n",
    "    sequence = []\n",
    "    quality = []\n",
    "\n",
    "    for filename in filenames:\n",
    "        f = open(filename, \"r\")\n",
    "        for line in f.readlines():\n",
    "            if line.startswith(\"@\"):\n",
    "                counter = 0\n",
    "            counter +=1\n",
    "            if counter == 1:\n",
    "                header.append(line)\n",
    "            if counter == 2:\n",
    "                sequence.append(line)\n",
    "            if counter == 4:\n",
    "                quality.append(line)\n",
    "\n",
    "    dictionary = {'header': header, 'sequence': sequence, 'quality': quality} \n",
    "    df = pandas.DataFrame(dictionary)\n",
    "    df[[\n",
    "        \"instrument_name\",\n",
    "        \"run_id\", \n",
    "        \"flowcell_id\",\n",
    "        \"flowcell_lane_tile_number\",\n",
    "        \"x-coord_within_tile\",\n",
    "        \"y-coord_within_tile\",\n",
    "        \"member_pair\",\n",
    "        \"filtered\",\n",
    "        \"control_bits\",\n",
    "        \"index_sequence\"]] = df[\"header\"].str.split(pat=\":\", expand=True)\n",
    "    \n",
    "    df['instrument_name'] =  df['instrument_name'].apply(lambda x: x[1:] if x.startswith(\"@\") else x)\n",
    "\n",
    "    return df\n",
    "    \n"
   ]
  },
  {
   "cell_type": "code",
   "execution_count": 5,
   "id": "c86b6c8e",
   "metadata": {},
   "outputs": [
    {
     "data": {
      "text/html": [
       "<div>\n",
       "<style scoped>\n",
       "    .dataframe tbody tr th:only-of-type {\n",
       "        vertical-align: middle;\n",
       "    }\n",
       "\n",
       "    .dataframe tbody tr th {\n",
       "        vertical-align: top;\n",
       "    }\n",
       "\n",
       "    .dataframe thead th {\n",
       "        text-align: right;\n",
       "    }\n",
       "</style>\n",
       "<table border=\"1\" class=\"dataframe\">\n",
       "  <thead>\n",
       "    <tr style=\"text-align: right;\">\n",
       "      <th></th>\n",
       "      <th>header</th>\n",
       "      <th>sequence</th>\n",
       "      <th>quality</th>\n",
       "      <th>instrument_name</th>\n",
       "      <th>run_id</th>\n",
       "      <th>flowcell_id</th>\n",
       "      <th>flowcell_lane_tile_number</th>\n",
       "      <th>x-coord_within_tile</th>\n",
       "      <th>y-coord_within_tile</th>\n",
       "      <th>member_pair</th>\n",
       "      <th>filtered</th>\n",
       "      <th>control_bits</th>\n",
       "      <th>index_sequence</th>\n",
       "    </tr>\n",
       "  </thead>\n",
       "  <tbody>\n",
       "    <tr>\n",
       "      <th>0</th>\n",
       "      <td>@M01757:9:000000000-AN67B:1:1101:13276:1772 1:...</td>\n",
       "      <td>TGACAGGACCAGTCACGCTTTTTCTCGGAGAAGATCAAAATCTGTC...</td>\n",
       "      <td>11AAAFA1AAAFGDDF11EFGGH0F300000001D1111111D22A...</td>\n",
       "      <td>M01757</td>\n",
       "      <td>9</td>\n",
       "      <td>000000000-AN67B</td>\n",
       "      <td>1</td>\n",
       "      <td>1101</td>\n",
       "      <td>13276</td>\n",
       "      <td>1772 1</td>\n",
       "      <td>N</td>\n",
       "      <td>0</td>\n",
       "      <td>1\\n</td>\n",
       "    </tr>\n",
       "  </tbody>\n",
       "</table>\n",
       "</div>"
      ],
      "text/plain": [
       "                                              header  \\\n",
       "0  @M01757:9:000000000-AN67B:1:1101:13276:1772 1:...   \n",
       "\n",
       "                                            sequence  \\\n",
       "0  TGACAGGACCAGTCACGCTTTTTCTCGGAGAAGATCAAAATCTGTC...   \n",
       "\n",
       "                                             quality instrument_name run_id  \\\n",
       "0  11AAAFA1AAAFGDDF11EFGGH0F300000001D1111111D22A...          M01757      9   \n",
       "\n",
       "       flowcell_id flowcell_lane_tile_number x-coord_within_tile  \\\n",
       "0  000000000-AN67B                         1                1101   \n",
       "\n",
       "  y-coord_within_tile member_pair filtered control_bits index_sequence  \n",
       "0               13276      1772 1        N            0            1\\n  "
      ]
     },
     "execution_count": 5,
     "metadata": {},
     "output_type": "execute_result"
    }
   ],
   "source": [
    "list_of_files = [x for x in os.listdir(os.getcwd()) if x.endswith(\".fq\")]\n",
    "df = read_fastq_to_pandas([\"testFile.fq\"])   \n",
    "df.head()"
   ]
  },
  {
   "cell_type": "code",
   "execution_count": null,
   "id": "782986f1",
   "metadata": {},
   "outputs": [],
   "source": []
  }
 ],
 "metadata": {
  "kernelspec": {
   "display_name": "Python 3",
   "language": "python",
   "name": "python3"
  },
  "language_info": {
   "codemirror_mode": {
    "name": "ipython",
    "version": 3
   },
   "file_extension": ".py",
   "mimetype": "text/x-python",
   "name": "python",
   "nbconvert_exporter": "python",
   "pygments_lexer": "ipython3",
   "version": "3.6.10"
  }
 },
 "nbformat": 4,
 "nbformat_minor": 5
}
