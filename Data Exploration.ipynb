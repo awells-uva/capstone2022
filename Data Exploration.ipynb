{
 "cells": [
  {
   "cell_type": "markdown",
   "metadata": {},
   "source": [
    "# Import Libraries"
   ]
  },
  {
   "cell_type": "code",
   "execution_count": 30,
   "metadata": {},
   "outputs": [],
   "source": [
    "import os\n",
    "import numpy \n",
    "import pandas \n",
    "import sys\n",
    "import gzip\n",
    "from wordcloud import WordCloud, STOPWORDS\n",
    "import matplotlib.pyplot as plt\n",
    "#jupyter notebook --NotebookApp.iopub_data_rate_limit=1.0e10"
   ]
  },
  {
   "cell_type": "markdown",
   "metadata": {},
   "source": [
    "# Collect Working Directory"
   ]
  },
  {
   "cell_type": "code",
   "execution_count": 6,
   "metadata": {},
   "outputs": [
    {
     "name": "stdin",
     "output_type": "stream",
     "text": [
      "Please paste in the desired working directory: \"C:\\Users\\MSachs.MSACHS-DELL\\Documents\\GitHub\\capstone2022\\data\"\n"
     ]
    }
   ],
   "source": [
    "wd = input('Please paste in the desired working directory:')\n",
    "wd = wd.replace('\"','')\n",
    "os.chdir(wd)"
   ]
  },
  {
   "cell_type": "code",
   "execution_count": 7,
   "metadata": {},
   "outputs": [
    {
     "name": "stdin",
     "output_type": "stream",
     "text": [
      "Please select the desired file from the list ['SRR7817180_hBM-MSC_3.fastq.gz'] : SRR7817180_hBM-MSC_3.fastq.gz\n"
     ]
    },
    {
     "data": {
      "text/plain": [
       "'SRR7817180_hBM-MSC_3.fastq.gz'"
      ]
     },
     "execution_count": 7,
     "metadata": {},
     "output_type": "execute_result"
    }
   ],
   "source": [
    "file = input('Please select the desired file from the list ' + str(os.listdir()) + ' :')\n",
    "file = file.replace('\\'','')\n",
    "file"
   ]
  },
  {
   "cell_type": "markdown",
   "metadata": {},
   "source": [
    "# Import Test File"
   ]
  },
  {
   "cell_type": "code",
   "execution_count": 12,
   "metadata": {},
   "outputs": [],
   "source": [
    "test_file = gzip.open(file, \"rt\")\n",
    "test_file = test_file.read()"
   ]
  },
  {
   "cell_type": "code",
   "execution_count": 13,
   "metadata": {},
   "outputs": [
    {
     "name": "stdout",
     "output_type": "stream",
     "text": [
      "@HWI-ST1075L:314:C3RTEACXX:8:1101:2032:1996 1:N:0:ACATTGGC\n",
      "NGTCTTGTTATCGTTCACGCGCCTATCAAAATCTTT\n",
      "+\n",
      "#4\n"
     ]
    }
   ],
   "source": [
    "print(test_file[0:100])"
   ]
  },
  {
   "cell_type": "markdown",
   "metadata": {},
   "source": [
    "## File Reader Function"
   ]
  },
  {
   "cell_type": "code",
   "execution_count": 22,
   "metadata": {},
   "outputs": [],
   "source": [
    "def read_fastq_to_pandas(filenames, num_records = 50, verbose = True):\n",
    "    header = []\n",
    "    sequence = []\n",
    "    quality = []\n",
    "    counter = 0 \n",
    "    stop_count = 0\n",
    "    stop = num_records * 4\n",
    "    for filename in filenames:\n",
    "        f = open(filename, \"r\")\n",
    "        lines = f.readlines()\n",
    "        print(\"Processing File: {}\".format( filename))\n",
    "        delim = \"@\"\n",
    "        if lines[0].startswith(\"@\"):\n",
    "            delim = lines[0].split(\":\")[0]\n",
    "        for i in range(len(lines)):\n",
    "            line = lines[i]\n",
    "            if verbose:\n",
    "                print(\"\\tProcessing Line: {}/{}\".format( i +1 ,len(lines)))\n",
    "            if line.startswith(delim):\n",
    "                counter = 0\n",
    "            counter +=1\n",
    "            if counter == 1:\n",
    "                header.append(line)\n",
    "            if counter == 2:\n",
    "                sequence.append(line)\n",
    "            if counter == 4:\n",
    "                quality.append(line)\n",
    "                \n",
    "            \n",
    "            stop_count +=1\n",
    "            if stop_count == stop: break\n",
    "    #print(len(header), len(sequence), len(quality))\n",
    "    dictionary = {'header': header, 'sequence': sequence, 'quality': quality} \n",
    "    df = pandas.DataFrame(dictionary)\n",
    "\n",
    "    df[[\n",
    "        \"instrument_name\",\n",
    "        \"run_id\", \n",
    "        \"flowcell_id\",\n",
    "        \"flowcell_lane_tile_number\",\n",
    "        \"x-coord_within_tile\",\n",
    "        \"y-coord_within_tile\",\n",
    "        \"member_pair\",\n",
    "        \"filtered\",\n",
    "        \"control_bits\",\n",
    "        \"index_sequence\"]] = df[\"header\"].str.split(pat=\":\", expand=True)\n",
    "    \n",
    "    df['instrument_name'] =  df['instrument_name'].apply(lambda x: x[1:] if x.startswith(\"@\") else x)\n",
    "    df['sequence'] = df['sequence'].apply(lambda x: x.strip())\n",
    "    df['index_sequence'] = df['index_sequence'].apply(lambda x: x.strip())\n",
    "    df['filtered'] = df['filtered'].astype('category')\n",
    "    \n",
    "    return df\n",
    "    "
   ]
  },
  {
   "cell_type": "markdown",
   "metadata": {},
   "source": [
    "## Data Pre-Processing"
   ]
  },
  {
   "cell_type": "code",
   "execution_count": 17,
   "metadata": {},
   "outputs": [],
   "source": [
    "if os.path.exists(\"testFile.fq\"):\n",
    "    os.remove(\"testFile.fq\")\n",
    "f = open(\"testFile.fq\", \"a\")\n",
    "f.write(test_file)\n",
    "f.close()"
   ]
  },
  {
   "cell_type": "code",
   "execution_count": 23,
   "metadata": {},
   "outputs": [
    {
     "name": "stdout",
     "output_type": "stream",
     "text": [
      "['testFile.fq']\n",
      "Processing File: testFile.fq\n",
      "\tProcessing Line: 1/59918592\n",
      "\tProcessing Line: 2/59918592\n",
      "\tProcessing Line: 3/59918592\n",
      "\tProcessing Line: 4/59918592\n",
      "\tProcessing Line: 5/59918592\n",
      "\tProcessing Line: 6/59918592\n",
      "\tProcessing Line: 7/59918592\n",
      "\tProcessing Line: 8/59918592\n",
      "\tProcessing Line: 9/59918592\n",
      "\tProcessing Line: 10/59918592\n",
      "\tProcessing Line: 11/59918592\n",
      "\tProcessing Line: 12/59918592\n",
      "\tProcessing Line: 13/59918592\n",
      "\tProcessing Line: 14/59918592\n",
      "\tProcessing Line: 15/59918592\n",
      "\tProcessing Line: 16/59918592\n",
      "\tProcessing Line: 17/59918592\n",
      "\tProcessing Line: 18/59918592\n",
      "\tProcessing Line: 19/59918592\n",
      "\tProcessing Line: 20/59918592\n",
      "\tProcessing Line: 21/59918592\n",
      "\tProcessing Line: 22/59918592\n",
      "\tProcessing Line: 23/59918592\n",
      "\tProcessing Line: 24/59918592\n",
      "\tProcessing Line: 25/59918592\n",
      "\tProcessing Line: 26/59918592\n",
      "\tProcessing Line: 27/59918592\n",
      "\tProcessing Line: 28/59918592\n",
      "\tProcessing Line: 29/59918592\n",
      "\tProcessing Line: 30/59918592\n",
      "\tProcessing Line: 31/59918592\n",
      "\tProcessing Line: 32/59918592\n",
      "\tProcessing Line: 33/59918592\n",
      "\tProcessing Line: 34/59918592\n",
      "\tProcessing Line: 35/59918592\n",
      "\tProcessing Line: 36/59918592\n",
      "\tProcessing Line: 37/59918592\n",
      "\tProcessing Line: 38/59918592\n",
      "\tProcessing Line: 39/59918592\n",
      "\tProcessing Line: 40/59918592\n",
      "\tProcessing Line: 41/59918592\n",
      "\tProcessing Line: 42/59918592\n",
      "\tProcessing Line: 43/59918592\n",
      "\tProcessing Line: 44/59918592\n",
      "\tProcessing Line: 45/59918592\n",
      "\tProcessing Line: 46/59918592\n",
      "\tProcessing Line: 47/59918592\n",
      "\tProcessing Line: 48/59918592\n",
      "\tProcessing Line: 49/59918592\n",
      "\tProcessing Line: 50/59918592\n",
      "\tProcessing Line: 51/59918592\n",
      "\tProcessing Line: 52/59918592\n",
      "\tProcessing Line: 53/59918592\n",
      "\tProcessing Line: 54/59918592\n",
      "\tProcessing Line: 55/59918592\n",
      "\tProcessing Line: 56/59918592\n",
      "\tProcessing Line: 57/59918592\n",
      "\tProcessing Line: 58/59918592\n",
      "\tProcessing Line: 59/59918592\n",
      "\tProcessing Line: 60/59918592\n",
      "\tProcessing Line: 61/59918592\n",
      "\tProcessing Line: 62/59918592\n",
      "\tProcessing Line: 63/59918592\n",
      "\tProcessing Line: 64/59918592\n",
      "\tProcessing Line: 65/59918592\n",
      "\tProcessing Line: 66/59918592\n",
      "\tProcessing Line: 67/59918592\n",
      "\tProcessing Line: 68/59918592\n",
      "\tProcessing Line: 69/59918592\n",
      "\tProcessing Line: 70/59918592\n",
      "\tProcessing Line: 71/59918592\n",
      "\tProcessing Line: 72/59918592\n",
      "\tProcessing Line: 73/59918592\n",
      "\tProcessing Line: 74/59918592\n",
      "\tProcessing Line: 75/59918592\n",
      "\tProcessing Line: 76/59918592\n",
      "\tProcessing Line: 77/59918592\n",
      "\tProcessing Line: 78/59918592\n",
      "\tProcessing Line: 79/59918592\n",
      "\tProcessing Line: 80/59918592\n",
      "\tProcessing Line: 81/59918592\n",
      "\tProcessing Line: 82/59918592\n",
      "\tProcessing Line: 83/59918592\n",
      "\tProcessing Line: 84/59918592\n",
      "\tProcessing Line: 85/59918592\n",
      "\tProcessing Line: 86/59918592\n",
      "\tProcessing Line: 87/59918592\n",
      "\tProcessing Line: 88/59918592\n",
      "\tProcessing Line: 89/59918592\n",
      "\tProcessing Line: 90/59918592\n",
      "\tProcessing Line: 91/59918592\n",
      "\tProcessing Line: 92/59918592\n",
      "\tProcessing Line: 93/59918592\n",
      "\tProcessing Line: 94/59918592\n",
      "\tProcessing Line: 95/59918592\n",
      "\tProcessing Line: 96/59918592\n",
      "\tProcessing Line: 97/59918592\n",
      "\tProcessing Line: 98/59918592\n",
      "\tProcessing Line: 99/59918592\n",
      "\tProcessing Line: 100/59918592\n",
      "\tProcessing Line: 101/59918592\n",
      "\tProcessing Line: 102/59918592\n",
      "\tProcessing Line: 103/59918592\n",
      "\tProcessing Line: 104/59918592\n",
      "\tProcessing Line: 105/59918592\n",
      "\tProcessing Line: 106/59918592\n",
      "\tProcessing Line: 107/59918592\n",
      "\tProcessing Line: 108/59918592\n",
      "\tProcessing Line: 109/59918592\n",
      "\tProcessing Line: 110/59918592\n",
      "\tProcessing Line: 111/59918592\n",
      "\tProcessing Line: 112/59918592\n",
      "\tProcessing Line: 113/59918592\n",
      "\tProcessing Line: 114/59918592\n",
      "\tProcessing Line: 115/59918592\n",
      "\tProcessing Line: 116/59918592\n",
      "\tProcessing Line: 117/59918592\n",
      "\tProcessing Line: 118/59918592\n",
      "\tProcessing Line: 119/59918592\n",
      "\tProcessing Line: 120/59918592\n",
      "\tProcessing Line: 121/59918592\n",
      "\tProcessing Line: 122/59918592\n",
      "\tProcessing Line: 123/59918592\n",
      "\tProcessing Line: 124/59918592\n",
      "\tProcessing Line: 125/59918592\n",
      "\tProcessing Line: 126/59918592\n",
      "\tProcessing Line: 127/59918592\n",
      "\tProcessing Line: 128/59918592\n",
      "\tProcessing Line: 129/59918592\n",
      "\tProcessing Line: 130/59918592\n",
      "\tProcessing Line: 131/59918592\n",
      "\tProcessing Line: 132/59918592\n",
      "\tProcessing Line: 133/59918592\n",
      "\tProcessing Line: 134/59918592\n",
      "\tProcessing Line: 135/59918592\n",
      "\tProcessing Line: 136/59918592\n",
      "\tProcessing Line: 137/59918592\n",
      "\tProcessing Line: 138/59918592\n",
      "\tProcessing Line: 139/59918592\n",
      "\tProcessing Line: 140/59918592\n",
      "\tProcessing Line: 141/59918592\n",
      "\tProcessing Line: 142/59918592\n",
      "\tProcessing Line: 143/59918592\n",
      "\tProcessing Line: 144/59918592\n",
      "\tProcessing Line: 145/59918592\n",
      "\tProcessing Line: 146/59918592\n",
      "\tProcessing Line: 147/59918592\n",
      "\tProcessing Line: 148/59918592\n",
      "\tProcessing Line: 149/59918592\n",
      "\tProcessing Line: 150/59918592\n",
      "\tProcessing Line: 151/59918592\n",
      "\tProcessing Line: 152/59918592\n",
      "\tProcessing Line: 153/59918592\n",
      "\tProcessing Line: 154/59918592\n",
      "\tProcessing Line: 155/59918592\n",
      "\tProcessing Line: 156/59918592\n",
      "\tProcessing Line: 157/59918592\n",
      "\tProcessing Line: 158/59918592\n",
      "\tProcessing Line: 159/59918592\n",
      "\tProcessing Line: 160/59918592\n",
      "\tProcessing Line: 161/59918592\n",
      "\tProcessing Line: 162/59918592\n",
      "\tProcessing Line: 163/59918592\n",
      "\tProcessing Line: 164/59918592\n",
      "\tProcessing Line: 165/59918592\n",
      "\tProcessing Line: 166/59918592\n",
      "\tProcessing Line: 167/59918592\n",
      "\tProcessing Line: 168/59918592\n",
      "\tProcessing Line: 169/59918592\n",
      "\tProcessing Line: 170/59918592\n",
      "\tProcessing Line: 171/59918592\n",
      "\tProcessing Line: 172/59918592\n",
      "\tProcessing Line: 173/59918592\n",
      "\tProcessing Line: 174/59918592\n",
      "\tProcessing Line: 175/59918592\n",
      "\tProcessing Line: 176/59918592\n",
      "\tProcessing Line: 177/59918592\n",
      "\tProcessing Line: 178/59918592\n",
      "\tProcessing Line: 179/59918592\n",
      "\tProcessing Line: 180/59918592\n",
      "\tProcessing Line: 181/59918592\n",
      "\tProcessing Line: 182/59918592\n",
      "\tProcessing Line: 183/59918592\n",
      "\tProcessing Line: 184/59918592\n",
      "\tProcessing Line: 185/59918592\n",
      "\tProcessing Line: 186/59918592\n",
      "\tProcessing Line: 187/59918592\n",
      "\tProcessing Line: 188/59918592\n",
      "\tProcessing Line: 189/59918592\n",
      "\tProcessing Line: 190/59918592\n",
      "\tProcessing Line: 191/59918592\n",
      "\tProcessing Line: 192/59918592\n",
      "\tProcessing Line: 193/59918592\n",
      "\tProcessing Line: 194/59918592\n",
      "\tProcessing Line: 195/59918592\n",
      "\tProcessing Line: 196/59918592\n",
      "\tProcessing Line: 197/59918592\n",
      "\tProcessing Line: 198/59918592\n",
      "\tProcessing Line: 199/59918592\n",
      "\tProcessing Line: 200/59918592\n"
     ]
    },
    {
     "data": {
      "text/html": [
       "<div>\n",
       "<style scoped>\n",
       "    .dataframe tbody tr th:only-of-type {\n",
       "        vertical-align: middle;\n",
       "    }\n",
       "\n",
       "    .dataframe tbody tr th {\n",
       "        vertical-align: top;\n",
       "    }\n",
       "\n",
       "    .dataframe thead th {\n",
       "        text-align: right;\n",
       "    }\n",
       "</style>\n",
       "<table border=\"1\" class=\"dataframe\">\n",
       "  <thead>\n",
       "    <tr style=\"text-align: right;\">\n",
       "      <th></th>\n",
       "      <th>header</th>\n",
       "      <th>sequence</th>\n",
       "      <th>quality</th>\n",
       "      <th>instrument_name</th>\n",
       "      <th>run_id</th>\n",
       "      <th>flowcell_id</th>\n",
       "      <th>flowcell_lane_tile_number</th>\n",
       "      <th>x-coord_within_tile</th>\n",
       "      <th>y-coord_within_tile</th>\n",
       "      <th>member_pair</th>\n",
       "      <th>filtered</th>\n",
       "      <th>control_bits</th>\n",
       "      <th>index_sequence</th>\n",
       "    </tr>\n",
       "  </thead>\n",
       "  <tbody>\n",
       "    <tr>\n",
       "      <th>0</th>\n",
       "      <td>@HWI-ST1075L:314:C3RTEACXX:8:1101:2032:1996 1:...</td>\n",
       "      <td>NGTCTTGTTATCGTTCACGCGCCTATCAAAATCTTT</td>\n",
       "      <td>#4:DDFFFHHHHHJJJJJJJJJJJIJJIJJJJJJJJ\\n</td>\n",
       "      <td>HWI-ST1075L</td>\n",
       "      <td>314</td>\n",
       "      <td>C3RTEACXX</td>\n",
       "      <td>8</td>\n",
       "      <td>1101</td>\n",
       "      <td>2032</td>\n",
       "      <td>1996 1</td>\n",
       "      <td>N</td>\n",
       "      <td>0</td>\n",
       "      <td>ACATTGGC</td>\n",
       "    </tr>\n",
       "    <tr>\n",
       "      <th>1</th>\n",
       "      <td>@HWI-ST1075L:314:C3RTEACXX:8:1101:3159:1999 1:...</td>\n",
       "      <td>NTGTATAGCACATACTTCAGGCCTGCGGCACCACCC</td>\n",
       "      <td>#1=DDFFFHHHHHJJJIJJGHJJIJJJJJJJJJJJJ\\n</td>\n",
       "      <td>HWI-ST1075L</td>\n",
       "      <td>314</td>\n",
       "      <td>C3RTEACXX</td>\n",
       "      <td>8</td>\n",
       "      <td>1101</td>\n",
       "      <td>3159</td>\n",
       "      <td>1999 1</td>\n",
       "      <td>N</td>\n",
       "      <td>0</td>\n",
       "      <td>ACATTGGC</td>\n",
       "    </tr>\n",
       "    <tr>\n",
       "      <th>2</th>\n",
       "      <td>@HWI-ST1075L:314:C3RTEACXX:8:1101:3698:1978 1:...</td>\n",
       "      <td>NTCTCAGTGATAAATACTTCGACAGGACCACTTGAG</td>\n",
       "      <td>#1=DDFFEHHHHHJJJJJJJJJJJJIJJJIJJJJJJ\\n</td>\n",
       "      <td>HWI-ST1075L</td>\n",
       "      <td>314</td>\n",
       "      <td>C3RTEACXX</td>\n",
       "      <td>8</td>\n",
       "      <td>1101</td>\n",
       "      <td>3698</td>\n",
       "      <td>1978 1</td>\n",
       "      <td>N</td>\n",
       "      <td>0</td>\n",
       "      <td>ACATTGGC</td>\n",
       "    </tr>\n",
       "    <tr>\n",
       "      <th>3</th>\n",
       "      <td>@HWI-ST1075L:314:C3RTEACXX:8:1101:3790:1978 1:...</td>\n",
       "      <td>NCCTGAAGCAACTGCTGTAACTGTGTTACAGTCTGA</td>\n",
       "      <td>#1=BDDFDFHHFDGGGGHIHGGGCFFGGEBCAFFAF\\n</td>\n",
       "      <td>HWI-ST1075L</td>\n",
       "      <td>314</td>\n",
       "      <td>C3RTEACXX</td>\n",
       "      <td>8</td>\n",
       "      <td>1101</td>\n",
       "      <td>3790</td>\n",
       "      <td>1978 1</td>\n",
       "      <td>N</td>\n",
       "      <td>0</td>\n",
       "      <td>ACATTGGC</td>\n",
       "    </tr>\n",
       "    <tr>\n",
       "      <th>4</th>\n",
       "      <td>@HWI-ST1075L:314:C3RTEACXX:8:1101:3902:1995 1:...</td>\n",
       "      <td>NTACTGTCTTCATTAGCACCATCCGCTCTCGCTTTG</td>\n",
       "      <td>#1=DDFFFHHHHHJJJIJJJIJJJIJJJIIGIJJJJ\\n</td>\n",
       "      <td>HWI-ST1075L</td>\n",
       "      <td>314</td>\n",
       "      <td>C3RTEACXX</td>\n",
       "      <td>8</td>\n",
       "      <td>1101</td>\n",
       "      <td>3902</td>\n",
       "      <td>1995 1</td>\n",
       "      <td>N</td>\n",
       "      <td>0</td>\n",
       "      <td>ACATTGGC</td>\n",
       "    </tr>\n",
       "  </tbody>\n",
       "</table>\n",
       "</div>"
      ],
      "text/plain": [
       "                                              header  \\\n",
       "0  @HWI-ST1075L:314:C3RTEACXX:8:1101:2032:1996 1:...   \n",
       "1  @HWI-ST1075L:314:C3RTEACXX:8:1101:3159:1999 1:...   \n",
       "2  @HWI-ST1075L:314:C3RTEACXX:8:1101:3698:1978 1:...   \n",
       "3  @HWI-ST1075L:314:C3RTEACXX:8:1101:3790:1978 1:...   \n",
       "4  @HWI-ST1075L:314:C3RTEACXX:8:1101:3902:1995 1:...   \n",
       "\n",
       "                               sequence  \\\n",
       "0  NGTCTTGTTATCGTTCACGCGCCTATCAAAATCTTT   \n",
       "1  NTGTATAGCACATACTTCAGGCCTGCGGCACCACCC   \n",
       "2  NTCTCAGTGATAAATACTTCGACAGGACCACTTGAG   \n",
       "3  NCCTGAAGCAACTGCTGTAACTGTGTTACAGTCTGA   \n",
       "4  NTACTGTCTTCATTAGCACCATCCGCTCTCGCTTTG   \n",
       "\n",
       "                                  quality instrument_name run_id flowcell_id  \\\n",
       "0  #4:DDFFFHHHHHJJJJJJJJJJJIJJIJJJJJJJJ\\n     HWI-ST1075L    314   C3RTEACXX   \n",
       "1  #1=DDFFFHHHHHJJJIJJGHJJIJJJJJJJJJJJJ\\n     HWI-ST1075L    314   C3RTEACXX   \n",
       "2  #1=DDFFEHHHHHJJJJJJJJJJJJIJJJIJJJJJJ\\n     HWI-ST1075L    314   C3RTEACXX   \n",
       "3  #1=BDDFDFHHFDGGGGHIHGGGCFFGGEBCAFFAF\\n     HWI-ST1075L    314   C3RTEACXX   \n",
       "4  #1=DDFFFHHHHHJJJIJJJIJJJIJJJIIGIJJJJ\\n     HWI-ST1075L    314   C3RTEACXX   \n",
       "\n",
       "  flowcell_lane_tile_number x-coord_within_tile y-coord_within_tile  \\\n",
       "0                         8                1101                2032   \n",
       "1                         8                1101                3159   \n",
       "2                         8                1101                3698   \n",
       "3                         8                1101                3790   \n",
       "4                         8                1101                3902   \n",
       "\n",
       "  member_pair filtered control_bits index_sequence  \n",
       "0      1996 1        N            0       ACATTGGC  \n",
       "1      1999 1        N            0       ACATTGGC  \n",
       "2      1978 1        N            0       ACATTGGC  \n",
       "3      1978 1        N            0       ACATTGGC  \n",
       "4      1995 1        N            0       ACATTGGC  "
      ]
     },
     "execution_count": 23,
     "metadata": {},
     "output_type": "execute_result"
    }
   ],
   "source": [
    "list_of_files = [x for x in os.listdir(os.getcwd()) if x.endswith(\".fq\")]\n",
    "print(list_of_files)\n",
    "df = read_fastq_to_pandas(list_of_files)   \n",
    "df.head()"
   ]
  },
  {
   "cell_type": "markdown",
   "metadata": {},
   "source": [
    "## Create N-Grams"
   ]
  },
  {
   "cell_type": "code",
   "execution_count": 25,
   "metadata": {},
   "outputs": [],
   "source": [
    "# Create function\n",
    "def generate_N_grams(sequence, maxlen=5, reverse = False):\n",
    "    \n",
    "    array = []\n",
    "    for i in range(len(sequence)- maxlen + 1):\n",
    "        array.append(sequence[i:i+maxlen])\n",
    "    \n",
    "    sequence = sequence[::-1] # Reverse sequence\n",
    "    \n",
    "    if reverse:\n",
    "        for i in range(len(sequence)- maxlen + 1):\n",
    "            array.append(sequence[i:i+maxlen])\n",
    "        \n",
    "    return array"
   ]
  },
  {
   "cell_type": "code",
   "execution_count": 26,
   "metadata": {},
   "outputs": [],
   "source": [
    "# Run function\n",
    "reverse_sequence = True\n",
    "max_length = 8\n",
    "df['short_sequence'] = df['sequence'].apply(lambda x: generate_N_grams(x,max_length,reverse_sequence ))"
   ]
  },
  {
   "cell_type": "code",
   "execution_count": 27,
   "metadata": {},
   "outputs": [],
   "source": [
    "# Unstack\n",
    "lst_col = 'short_sequence'\n",
    "\n",
    "df = pandas.DataFrame({ col:numpy.repeat(df[col].values, df[lst_col].str.len())\n",
    "                       for col in df.columns.difference([lst_col])}).assign(**{lst_col:numpy.concatenate(df[lst_col].values)})[df.columns.tolist()]\n"
   ]
  },
  {
   "cell_type": "markdown",
   "metadata": {},
   "source": [
    "# Produce Word Clouds"
   ]
  },
  {
   "cell_type": "code",
   "execution_count": 45,
   "metadata": {},
   "outputs": [
    {
     "data": {
      "image/png": "[encoded data removed]",
      "text/plain": [
       "<Figure size 432x288 with 1 Axes>"
      ]
     },
     "metadata": {
      "needs_background": "light"
     },
     "output_type": "display_data"
    }
   ],
   "source": [
    "text = ' '.join(str(x) for x in df['short_sequence'])\n",
    "text = text.strip()\n",
    "wordcloud = WordCloud(background_color ='white', min_word_length = 4, max_words = 40).generate(str(text))\n",
    "\n",
    "plt.imshow(wordcloud)\n",
    "plt.axis(\"off\")\n",
    "plt.show()"
   ]
  },
  {
   "cell_type": "code",
   "execution_count": 39,
   "metadata": {},
   "outputs": [
    {
     "data": {
      "text/html": [
       "<div>\n",
       "<style scoped>\n",
       "    .dataframe tbody tr th:only-of-type {\n",
       "        vertical-align: middle;\n",
       "    }\n",
       "\n",
       "    .dataframe tbody tr th {\n",
       "        vertical-align: top;\n",
       "    }\n",
       "\n",
       "    .dataframe thead th {\n",
       "        text-align: right;\n",
       "    }\n",
       "</style>\n",
       "<table border=\"1\" class=\"dataframe\">\n",
       "  <thead>\n",
       "    <tr style=\"text-align: right;\">\n",
       "      <th></th>\n",
       "      <th>frequency</th>\n",
       "    </tr>\n",
       "    <tr>\n",
       "      <th>short_sequence</th>\n",
       "      <th></th>\n",
       "    </tr>\n",
       "  </thead>\n",
       "  <tbody>\n",
       "    <tr>\n",
       "      <th>TTTTTTTT</th>\n",
       "      <td>12</td>\n",
       "    </tr>\n",
       "    <tr>\n",
       "      <th>GCAAAAAA</th>\n",
       "      <td>3</td>\n",
       "    </tr>\n",
       "    <tr>\n",
       "      <th>GTTTCTTT</th>\n",
       "      <td>3</td>\n",
       "    </tr>\n",
       "    <tr>\n",
       "      <th>TTTTTCTT</th>\n",
       "      <td>3</td>\n",
       "    </tr>\n",
       "    <tr>\n",
       "      <th>TTTCTTTG</th>\n",
       "      <td>3</td>\n",
       "    </tr>\n",
       "  </tbody>\n",
       "</table>\n",
       "</div>"
      ],
      "text/plain": [
       "                frequency\n",
       "short_sequence           \n",
       "TTTTTTTT               12\n",
       "GCAAAAAA                3\n",
       "GTTTCTTT                3\n",
       "TTTTTCTT                3\n",
       "TTTCTTTG                3"
      ]
     },
     "execution_count": 39,
     "metadata": {},
     "output_type": "execute_result"
    }
   ],
   "source": [
    "pandas.DataFrame(df.groupby(['short_sequence'])['short_sequence'].count()).rename(columns = {'short_sequence':'frequency'}).sort_values(\n",
    "    by = ['frequency'],\n",
    "    axis = 0, \n",
    "    ascending = False, \n",
    ").head()"
   ]
  },
  {
   "cell_type": "code",
   "execution_count": 48,
   "metadata": {},
   "outputs": [
    {
     "data": {
      "text/plain": [
       "<AxesSubplot:ylabel='short_sequence'>"
      ]
     },
     "execution_count": 48,
     "metadata": {},
     "output_type": "execute_result"
    },
    {
     "data": {
      "image/png": "[encoded data removed]",
      "text/plain": [
       "<Figure size 360x720 with 1 Axes>"
      ]
     },
     "metadata": {
      "needs_background": "light"
     },
     "output_type": "display_data"
    }
   ],
   "source": [
    "pandas.DataFrame(df.groupby(['short_sequence'])['short_sequence'].count()).rename(columns = {'short_sequence':'frequency'}).sort_values(\n",
    "    by = ['frequency'],\n",
    "    axis = 0, \n",
    "    ascending = False, \n",
    ").head(20).reset_index().sort_values('frequency', ascending=True).plot.barh(y='frequency', x='short_sequence', figsize=(5,10)) "
   ]
  },
  {
   "cell_type": "code",
   "execution_count": null,
   "metadata": {},
   "outputs": [],
   "source": []
  }
 ],
 "metadata": {
  "kernelspec": {
   "display_name": "Python 3",
   "language": "python",
   "name": "python3"
  },
  "language_info": {
   "codemirror_mode": {
    "name": "ipython",
    "version": 3
   },
   "file_extension": ".py",
   "mimetype": "text/x-python",
   "name": "python",
   "nbconvert_exporter": "python",
   "pygments_lexer": "ipython3",
   "version": "3.8.5"
  }
 },
 "nbformat": 4,
 "nbformat_minor": 4
}
